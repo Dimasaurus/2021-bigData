{
 "cells": [
  {
   "cell_type": "code",
   "execution_count": 1,
   "id": "fc3e086d-cbbc-4242-8ab1-f01d014a1b9d",
   "metadata": {},
   "outputs": [],
   "source": [
    "import numpy as np\n",
    "import pandas as pd"
   ]
  },
  {
   "cell_type": "code",
   "execution_count": 187,
   "id": "d8d59544-42ef-4cad-8a2e-862777792340",
   "metadata": {},
   "outputs": [
    {
     "name": "stdout",
     "output_type": "stream",
     "text": [
      "         0     1     2     3         4         5         6\n",
      "0      783  4709  3754   941  0.862811  0.413156  0.875281\n",
      "1     4810   720  1790  4835  0.651807  0.507342  0.271312\n",
      "2     2052  2556  3539   393  0.580848  0.111367  0.335893\n",
      "3      242  1660  4462  1605  0.851682  0.353240  0.932800\n",
      "4     4885  4679  -341   707  0.105576  0.589756  0.709410\n",
      "...    ...   ...   ...   ...       ...       ...       ...\n",
      "8995  2746  4492  1967    15  0.928052  0.408084  0.315096\n",
      "8996  1798  2649  3483   614  0.240744  0.341973  0.621773\n",
      "8997  -855  3757  2001  4092  0.904546  0.139118  0.928773\n",
      "8998  1371  -425  3397  2463  0.732791  0.968006  0.965133\n",
      "8999    40  4256  3542  2756  0.523389  0.475841  0.166456\n",
      "\n",
      "[9000 rows x 7 columns]\n"
     ]
    }
   ],
   "source": [
    "rng = np.random.default_rng()\n",
    "df1 = pd.DataFrame(rng.integers(-1000,5000,size=(9000,4)))\n",
    "df2 = pd.DataFrame(rng.random((9000,3)))\n",
    "\n",
    "data = pd.concat([df1,df2],axis=1)\n",
    "data.columns = [x for x in range(7)]\n",
    "print(data)\n",
    "data.to_csv('cherkasov',sep='\\t', index=False)"
   ]
  },
  {
   "cell_type": "code",
   "execution_count": 188,
   "id": "b1e09db3-8f96-447d-943a-e157f0f1df2e",
   "metadata": {},
   "outputs": [
    {
     "name": "stdout",
     "output_type": "stream",
     "text": [
      "         0     1     2     3         4         5         6\n",
      "0      783  4709  3754   941  0.862811  0.413156  0.875281\n",
      "1     4810   720  1790  4835  0.651807  0.507342  0.271312\n",
      "2     2052  2556  3539   393  0.580848  0.111367  0.335893\n",
      "3      242  1660  4462  1605  0.851682  0.353240  0.932800\n",
      "4     4885  4679  -341   707  0.105576  0.589756  0.709410\n",
      "...    ...   ...   ...   ...       ...       ...       ...\n",
      "8995  2746  4492  1967    15  0.928052  0.408084  0.315096\n",
      "8996  1798  2649  3483   614  0.240744  0.341973  0.621773\n",
      "8997  -855  3757  2001  4092  0.904546  0.139118  0.928773\n",
      "8998  1371  -425  3397  2463  0.732791  0.968006  0.965133\n",
      "8999    40  4256  3542  2756  0.523389  0.475841  0.166456\n",
      "\n",
      "[9000 rows x 7 columns]\n"
     ]
    }
   ],
   "source": [
    "df = pd.read_csv('cherkasov',sep='\\t')\n",
    "print(df)"
   ]
  },
  {
   "cell_type": "code",
   "execution_count": 189,
   "id": "79aa3064-8953-4215-be4c-19124abd0795",
   "metadata": {},
   "outputs": [],
   "source": [
    "def corrupt_the_file(file):\n",
    "    frame = pd.read_csv(file,sep='\\t')\n",
    "    k = 0\n",
    "    for i in range(int(len(frame)/100*5)):\n",
    "        line = rng.integers(0,len(frame))\n",
    "        col  = rng.integers(0,3)\n",
    "        frame.iat[line,col] = rng.random() * 10000 - 5000\n",
    "    frame.to_csv(file + '_corrupted', sep='\\t',index=False)\n",
    "    print(k)"
   ]
  },
  {
   "cell_type": "code",
   "execution_count": 190,
   "id": "ae548dde-8ada-461f-9380-43e8382d16f7",
   "metadata": {},
   "outputs": [
    {
     "name": "stdout",
     "output_type": "stream",
     "text": [
      "         0     1     2     3         4         5         6\n",
      "0      709  3483   930  3285  0.185600  0.295796  0.389947\n",
      "1      449  -236  4456  4590  0.540823  0.716340  0.892768\n",
      "2     -744  3004   411  3993  0.144037  0.526889  0.916228\n",
      "3     -593   940  2439  2950  0.430307  0.169747  0.055202\n",
      "4     1696  4251  1287  3417  0.029005  0.577225  0.990262\n",
      "...    ...   ...   ...   ...       ...       ...       ...\n",
      "8995   249  2537  3593   240       NaN       NaN       NaN\n",
      "8996  -459  3714  3403  2400       NaN       NaN       NaN\n",
      "8997  4782   793  3142   925       NaN       NaN       NaN\n",
      "8998  1627  -201  1703   389       NaN       NaN       NaN\n",
      "8999  1090  2916  -834  4342       NaN       NaN       NaN\n",
      "\n",
      "[9000 rows x 7 columns]\n"
     ]
    }
   ],
   "source": [
    "r = pd.read_csv('fomin',sep='\\t')\n",
    "print(r)"
   ]
  },
  {
   "cell_type": "code",
   "execution_count": 191,
   "id": "24007c01-de51-4e2f-aa00-25c4f8d4a203",
   "metadata": {},
   "outputs": [
    {
     "name": "stdout",
     "output_type": "stream",
     "text": [
      "0\n",
      "           0            1       2     3         4         5         6\n",
      "0      709.0  3483.000000   930.0  3285  0.185600  0.295796  0.389947\n",
      "1      449.0  -236.000000  4456.0  4590  0.540823  0.716340  0.892768\n",
      "2     -744.0 -1471.544968   411.0  3993  0.144037  0.526889  0.916228\n",
      "3     -593.0   940.000000  2439.0  2950  0.430307  0.169747  0.055202\n",
      "4     1696.0  4251.000000  1287.0  3417  0.029005  0.577225  0.990262\n",
      "...      ...          ...     ...   ...       ...       ...       ...\n",
      "8995   249.0  2378.490184  3593.0   240       NaN       NaN       NaN\n",
      "8996  -459.0  3714.000000  3403.0  2400       NaN       NaN       NaN\n",
      "8997  4782.0   793.000000  3142.0   925       NaN       NaN       NaN\n",
      "8998  1627.0  -201.000000  1703.0   389       NaN       NaN       NaN\n",
      "8999  1090.0  2916.000000  -834.0  4342       NaN       NaN       NaN\n",
      "\n",
      "[9000 rows x 7 columns]\n"
     ]
    }
   ],
   "source": [
    "corrupt_the_file('fomin')\n",
    "d = pd.read_csv('fomin_corrupted',sep='\\t')\n",
    "print(d)"
   ]
  },
  {
   "cell_type": "code",
   "execution_count": 192,
   "id": "036347eb-e365-424b-a52a-2b99ab92a052",
   "metadata": {},
   "outputs": [
    {
     "name": "stdout",
     "output_type": "stream",
     "text": [
      "446\n"
     ]
    }
   ],
   "source": [
    "cc = 0\n",
    "for i in range(len(r)):\n",
    "    for j in range(4):\n",
    "        if d.iat[i,j] != r.iat[i,j]:\n",
    "            cc += 1\n",
    "print(cc)"
   ]
  },
  {
   "cell_type": "code",
   "execution_count": null,
   "id": "3bf9a63d-7ca4-4c33-a6e5-6e62b88a0c61",
   "metadata": {},
   "outputs": [],
   "source": []
  }
 ],
 "metadata": {
  "kernelspec": {
   "display_name": "Python 3 (ipykernel)",
   "language": "python",
   "name": "python3"
  },
  "language_info": {
   "codemirror_mode": {
    "name": "ipython",
    "version": 3
   },
   "file_extension": ".py",
   "mimetype": "text/x-python",
   "name": "python",
   "nbconvert_exporter": "python",
   "pygments_lexer": "ipython3",
   "version": "3.9.2"
  }
 },
 "nbformat": 4,
 "nbformat_minor": 5
}
