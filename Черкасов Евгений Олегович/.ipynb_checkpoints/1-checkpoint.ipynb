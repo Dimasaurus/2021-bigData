{
 "cells": [
  {
   "cell_type": "code",
   "execution_count": 1,
   "id": "fc3e086d-cbbc-4242-8ab1-f01d014a1b9d",
   "metadata": {},
   "outputs": [],
   "source": [
    "import numpy as np\n",
    "import pandas as pd"
   ]
  },
  {
   "cell_type": "code",
   "execution_count": 4,
   "id": "d8d59544-42ef-4cad-8a2e-862777792340",
   "metadata": {},
   "outputs": [
    {
     "name": "stdout",
     "output_type": "stream",
     "text": [
      "        0      1       2       3\n",
      "0  3059.0 -884.0  -692.0  -347.0\n",
      "1  -935.0 -523.0   438.0  1184.0\n",
      "2  -168.0 -614.0   208.0  -372.0\n",
      "3  1743.0 -922.0    97.0  3501.0\n",
      "4  2689.0  194.0  1236.0  -229.0\n"
     ]
    }
   ],
   "source": [
    "rng = np.random.default_rng()\n",
    "df1 = pd.DataFrame(rng.integers(-1000,5000,size=(9000,4)))\n",
    "df2 = pd.DataFrame(rng.random((3000,3)))\n",
    "\n",
    "data = pd.concat([df1,df2])\n",
    "print(data.head())\n",
    "data.to_csv('cherkasov',sep='\\t')"
   ]
  },
  {
   "cell_type": "code",
   "execution_count": null,
   "id": "b1e09db3-8f96-447d-943a-e157f0f1df2e",
   "metadata": {},
   "outputs": [],
   "source": []
  }
 ],
 "metadata": {
  "kernelspec": {
   "display_name": "Python 3 (ipykernel)",
   "language": "python",
   "name": "python3"
  },
  "language_info": {
   "codemirror_mode": {
    "name": "ipython",
    "version": 3
   },
   "file_extension": ".py",
   "mimetype": "text/x-python",
   "name": "python",
   "nbconvert_exporter": "python",
   "pygments_lexer": "ipython3",
   "version": "3.9.2"
  }
 },
 "nbformat": 4,
 "nbformat_minor": 5
}
